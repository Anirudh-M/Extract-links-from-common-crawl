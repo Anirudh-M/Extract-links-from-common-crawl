{
 "cells": [
  {
   "cell_type": "code",
   "execution_count": null,
   "metadata": {},
   "outputs": [],
   "source": [
    "# Using Common crawl index to find the links of required domain"
   ]
  },
  {
   "cell_type": "code",
   "execution_count": 2,
   "metadata": {},
   "outputs": [],
   "source": [
    "import requests\n",
    "import argparse\n",
    "import time\n",
    "import json\n",
    "import StringIO\n",
    "import gzip\n",
    "from bs4 import BeautifulSoup\n",
    "import urllib2\n",
    "import pandas as pd\n",
    "from urllib2 import URLError, HTTPError\n",
    "import socket"
   ]
  },
  {
   "cell_type": "code",
   "execution_count": 11,
   "metadata": {},
   "outputs": [],
   "source": [
    "import sys\n",
    "reload(sys)\n",
    "sys.setdefaultencoding('utf8')"
   ]
  },
  {
   "cell_type": "code",
   "execution_count": 9,
   "metadata": {},
   "outputs": [],
   "source": [
    "# cnn.com\n",
    "# finance.yahoo.com\n",
    "\n",
    "domain = 'wsj.com'\n",
    "index_list = [\"2019-04\", \"2019-09\", \"2019-13\"]"
   ]
  },
  {
   "cell_type": "code",
   "execution_count": 10,
   "metadata": {},
   "outputs": [],
   "source": [
    "def search_domain(domain):\n",
    "    record_list = []\n",
    "    print \"[*] Trying target domain: %s\" % domain\n",
    "    \n",
    "    for index in index_list:\n",
    "        print \"[*] Trying index %s\" % index\n",
    "        cc_url  = \"http://index.commoncrawl.org/CC-MAIN-%s-index?\" % index\n",
    "        cc_url += \"url=%s&matchType=domain&output=json\" % domain\n",
    "        \n",
    "        response = requests.get(cc_url)\n",
    "        \n",
    "        if response.status_code == 200:\n",
    "            records = response.content.splitlines()\n",
    "            for record in records:\n",
    "                record_list.append(json.loads(record))  \n",
    "            print \"[*] Added %d results.\" % len(records)\n",
    "    print \"[*] Found a total of %d hits.\" % len(record_list)\n",
    "    return record_list "
   ]
  },
  {
   "cell_type": "code",
   "execution_count": 11,
   "metadata": {},
   "outputs": [
    {
     "name": "stdout",
     "output_type": "stream",
     "text": [
      "[*] Trying target domain: wsj.com\n",
      "[*] Trying index 2019-09\n",
      "[*] Added 12071 results.\n",
      "[*] Trying index 2019-13\n",
      "[*] Added 13926 results.\n",
      "[*] Found a total of 25997 hits.\n"
     ]
    }
   ],
   "source": [
    "record_list = search_domain(domain)"
   ]
  },
  {
   "cell_type": "code",
   "execution_count": 12,
   "metadata": {},
   "outputs": [],
   "source": [
    "for record in record_list:\n",
    "    f = open('links.txt', 'ab')\n",
    "    f.write(record['url']+'\\n')\n",
    "    f.close()"
   ]
  },
  {
   "cell_type": "code",
   "execution_count": null,
   "metadata": {},
   "outputs": [],
   "source": []
  },
  {
   "cell_type": "code",
   "execution_count": 1,
   "metadata": {},
   "outputs": [],
   "source": [
    "# Reaad the saved lines"
   ]
  },
  {
   "cell_type": "code",
   "execution_count": 13,
   "metadata": {},
   "outputs": [],
   "source": [
    "links_file = open('links.txt', 'r')\n",
    "links = links_file.readlines()\n",
    "links_file.close()"
   ]
  },
  {
   "cell_type": "code",
   "execution_count": 14,
   "metadata": {},
   "outputs": [
    {
     "data": {
      "text/plain": [
       "25997"
      ]
     },
     "execution_count": 14,
     "metadata": {},
     "output_type": "execute_result"
    }
   ],
   "source": [
    "len(links)"
   ]
  },
  {
   "cell_type": "code",
   "execution_count": 5,
   "metadata": {},
   "outputs": [],
   "source": [
    "import ssl\n",
    "\n",
    "ctx = ssl.create_default_context()\n",
    "ctx.check_hostname = False\n",
    "ctx.verify_mode = ssl.CERT_NONE\n"
   ]
  },
  {
   "cell_type": "code",
   "execution_count": 15,
   "metadata": {},
   "outputs": [],
   "source": [
    "# Saves the data collected for each keyword in separate text files\n",
    "\n",
    "def save_keyword_data(keyword, text):\n",
    "    text = text.encode('utf-8')\n",
    "    path = keyword+\".txt\"\n",
    "    text_file = open(path, \"ab\")\n",
    "    text_file.write(text)\n",
    "    text_file.close()"
   ]
  },
  {
   "cell_type": "code",
   "execution_count": 16,
   "metadata": {},
   "outputs": [],
   "source": [
    "amazonCount = appleCount = facebookCount = microsoftCount = googleCount = 0"
   ]
  },
  {
   "cell_type": "code",
   "execution_count": null,
   "metadata": {},
   "outputs": [],
   "source": []
  },
  {
   "cell_type": "code",
   "execution_count": null,
   "metadata": {},
   "outputs": [],
   "source": [
    "for url in links:\n",
    "    url = url.strip()\n",
    "    try:\n",
    "        html = urllib2.urlopen(url, context = ctx, timeout = 5).read()\n",
    "        soup = BeautifulSoup(html)\n",
    "        for script in soup([\"script\", \"style\"]):\n",
    "            script.extract()\n",
    "        for a in [\"h1\",\"h2\"]:\n",
    "            for headlines in soup.find_all(a):\n",
    "                \n",
    "                #print(\"reading headlines\")\n",
    "                #headlines = headlines.encode('utf-8')\n",
    "                \n",
    "                headlines = headlines.text.strip()\n",
    "                headlines = headlines.encode('ascii','ignore')\n",
    "                headlines = headlines.lower()\n",
    "                \n",
    "                text = soup.get_text()\n",
    "                if('apple' in headlines):\n",
    "                    appleCount+=1\n",
    "                    save_keyword_data('uber', text)\n",
    "\n",
    "                if('facebook' in headlines):\n",
    "                    facebookCount+=1\n",
    "                    save_keyword_data('facebook', text)\n",
    "                    \n",
    "                if('google' in headlines):\n",
    "                    googleCount+=1\n",
    "                    save_keyword_data('google', text)\n",
    "                    \n",
    "                if('amazon' in headlines):\n",
    "                    amazonCount+=1\n",
    "                    save_keyword_data('amazon', text)\n",
    "                    \n",
    "                if('microsoft' in headlines):\n",
    "                    microsoftCount+=1\n",
    "                    save_keyword_data('microsoft', text)\n",
    "                    \n",
    "    except Exception , e:\n",
    "        print(\"error\", e)\n",
    "        "
   ]
  },
  {
   "cell_type": "code",
   "execution_count": null,
   "metadata": {},
   "outputs": [],
   "source": [
    "print(amazonCount, appleCount, facebookCount, microsoftCount, googleCount)"
   ]
  }
 ],
 "metadata": {
  "kernelspec": {
   "display_name": "Python 2",
   "language": "python",
   "name": "python2"
  },
  "language_info": {
   "codemirror_mode": {
    "name": "ipython",
    "version": 2
   },
   "file_extension": ".py",
   "mimetype": "text/x-python",
   "name": "python",
   "nbconvert_exporter": "python",
   "pygments_lexer": "ipython2",
   "version": "2.7.16"
  }
 },
 "nbformat": 4,
 "nbformat_minor": 2
}
